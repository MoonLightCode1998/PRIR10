{
  "nbformat": 4,
  "nbformat_minor": 0,
  "metadata": {
    "colab": {
      "name": "Untitled0.ipynb",
      "provenance": [],
      "collapsed_sections": []
    },
    "kernelspec": {
      "name": "python3",
      "display_name": "Python 3"
    },
    "language_info": {
      "name": "python"
    },
    "accelerator": "GPU"
  },
  "cells": [
    {
      "cell_type": "markdown",
      "metadata": {
        "id": "IafC9Eqaiwlb"
      },
      "source": [
        "Instalacja cuda \n"
      ]
    },
    {
      "cell_type": "code",
      "metadata": {
        "id": "il86Tc4ugbWc"
      },
      "source": [
        "!apt-get --purge remove cuda nvidia* libnvidia-*\n",
        "!dpkg -l | grep cuda- | awk '{print $2}' | xargs -n1 dpkg --purge\n",
        "!apt-get remove cuda-*\n",
        "!apt autoremove\n",
        "!apt-get update\n",
        "\n",
        "!wget https://developer.nvidia.com/compute/cuda/9.2/Prod/local_installers/cuda-repo-ubuntu1604-9-2-local_9.2.88-1_amd64 -O cuda-repo-ubuntu1604-9-2-local_9.2.88-1_amd64.deb\n",
        "!dpkg -i cuda-repo-ubuntu1604-9-2-local_9.2.88-1_amd64.deb\n",
        "!apt-key add /var/cuda-repo-9-2-local/7fa2af80.pub\n",
        "!apt-get update\n",
        "!apt-get install cuda-9.2\n",
        "\n",
        "!nvcc --version\n",
        "!pip install git+git://github.com/andreinechaev/nvcc4jupyter.git\n",
        "\n",
        "%load_ext nvcc_plugin"
      ],
      "execution_count": null,
      "outputs": []
    },
    {
      "cell_type": "markdown",
      "source": [
        "**MANDELBROT CPU**"
      ],
      "metadata": {
        "id": "EEFLoyjy8uKJ"
      }
    },
    {
      "cell_type": "code",
      "metadata": {
        "colab": {
          "base_uri": "https://localhost:8080/"
        },
        "id": "-BIU9oNnitll",
        "outputId": "0f7cac0d-c6f2-474e-b176-fd73139fc762"
      },
      "source": [
        "%%cu\n",
        "#include <iostream> \n",
        "#include <chrono>\n",
        "#include <sys/time.h>\n",
        "using namespace std;\n",
        "void computeMandelbrot(double X0, double Y0, double X1, double Y1, int width, int height, int ITER,int *Mandel ){\n",
        "    double Xre,Xim,Yre,Yim,Tre,Tim;\n",
        "    double dy = (Y1-Y0)/height;\n",
        "    double dx=(X1-X0)/width;\n",
        "    int k;\n",
        "     for (int x = 0; x < width; x++) {\n",
        "            Xre=x*dx+X0;\n",
        "            for (int y = 0; y < height; y++) {\n",
        "                k=0;\n",
        "                Xim=y*dy+Y0;\n",
        "                Yre=0;\n",
        "                Yim=0;\n",
        "               do{\n",
        "                   Tre = Yre*Yre-Yim*Yim;\n",
        "                   Tim = 2*Yre*Yim;\n",
        "                   Yre=Tre;\n",
        "                   Yim=Tim;\n",
        "                   Yre=Yre+Xre;\n",
        "                   Yim=Yim+Xim;\n",
        "                   k++;\n",
        "               }while(k<ITER&&(Yre*Yre+ Yim*Yim)<4);\n",
        "                Mandel[x*height+y]=k;\n",
        "            }\n",
        "              \n",
        "     }\n",
        "\n",
        "}\n",
        "void makePicture(int *Mandel,int width, int height, int MAX){\n",
        "    \n",
        "    int red_value, green_value, blue_value;\n",
        "    \n",
        "    float scale = 256.0/MAX;\n",
        "    \n",
        "    int MyPalette[41][3]={\n",
        "        {255,255,255}, //0\n",
        "        {255,255,255}, //1 not used\n",
        "        {255,255,255}, //2 not used\n",
        "        {255,255,255}, //3 not used\n",
        "        {255,255,255}, //4 not used\n",
        "        {255,180,255}, //5\n",
        "        {255,180,255}, //6 not used\n",
        "        {255,180,255}, //7 not used\n",
        "        {248,128,240}, //8\n",
        "        {248,128,240}, //9 not used\n",
        "        {240,64,224}, //10\n",
        "        {240,64,224}, //11 not used\n",
        "        {232,32,208}, //12\n",
        "        {224,16,192}, //13\n",
        "        {216,8,176}, //14\n",
        "        {208,4,160}, //15\n",
        "        {200,2,144}, //16\n",
        "        {192,1,128}, //17\n",
        "        {184,0,112}, //18\n",
        "        {176,0,96}, //19\n",
        "        {168,0,80}, //20\n",
        "        {160,0,64}, //21\n",
        "        {152,0,48}, //22\n",
        "        {144,0,32}, //23\n",
        "        {136,0,16}, //24\n",
        "        {128,0,0}, //25\n",
        "        {120,16,0}, //26\n",
        "        {112,32,0}, //27\n",
        "        {104,48,0}, //28\n",
        "        {96,64,0}, //29\n",
        "        {88,80,0}, //30\n",
        "        {80,96,0}, //31\n",
        "        {72,112,0}, //32\n",
        "        {64,128,0}, //33\n",
        "        {56,144,0}, //34\n",
        "        {48,160,0}, //35\n",
        "        {40,176,0}, //36\n",
        "        {32,192,0}, //37\n",
        "        {16,224,0}, //38\n",
        "        {8,240,0}, //39\n",
        "        {0,0,0} //40\n",
        "    };\n",
        "    \n",
        "    FILE *f = fopen(\"Mandel.ppm\", \"wb\");\n",
        "    fprintf(f, \"P6\\n%i %i 255\\n\", width, height);\n",
        "    for (int j=height-1; j>=0; j--) {\n",
        "        for (int i=0; i<width; i++) {\n",
        "            // compute index to the palette\n",
        "            int indx= (int) floor(5.0*scale*log2f(1.0f*Mandel[j*height+i]+1));\n",
        "            red_value=MyPalette[indx][0];\n",
        "            green_value=MyPalette[indx][2];\n",
        "            blue_value=MyPalette[indx][1];\n",
        "            \n",
        "            fputc(red_value, f);   // 0 .. 255\n",
        "            fputc(green_value, f); // 0 .. 255\n",
        "            fputc(blue_value, f);  // 0 .. 255\n",
        "        }\n",
        "    }\n",
        "    fclose(f);\n",
        "    \n",
        "}\n",
        "int main(int argc, char **argv) {\n",
        "  \n",
        "\n",
        "  \n",
        "  \n",
        "    double X0=-0.82;\n",
        "    double Y0=0.1; \n",
        "    double X1=-0.7;\n",
        "    double Y1=0.22;\n",
        "    int width=1000;\n",
        "    int height=1000;\n",
        "    int ITER=256;\n",
        "    int Mandel[1000*1000];\n",
        "  \n",
        "   // printf(\"aaa\");\n",
        " \n",
        "      auto start2 = chrono::steady_clock::now(); \n",
        "\n",
        "    computeMandelbrot(X0,Y0,X1,Y1,width,height,ITER,Mandel);\n",
        "   makePicture(Mandel,width,height,ITER);\n",
        "\n",
        "    auto stop = chrono::steady_clock::now();\n",
        "\n",
        "    auto diff = stop - start2;\n",
        "\n",
        "printf(\"%f\", diff);\n",
        "   return 0;\n",
        "  \n",
        "\n",
        "}\n",
        "\n",
        "\n",
        "\n",
        "\n",
        "\n"
      ],
      "execution_count": 1,
      "outputs": [
        {
          "output_type": "stream",
          "name": "stderr",
          "text": [
            "UsageError: Cell magic `%%cu` not found.\n"
          ]
        }
      ]
    },
    {
      "cell_type": "code",
      "metadata": {
        "colab": {
          "base_uri": "https://localhost:8080/"
        },
        "id": "NexGC3fonXgr",
        "outputId": "660db15d-32a5-48fc-d531-31cba9d1e1f3"
      },
      "source": [
        "\n",
        "\n",
        "!ls"
      ],
      "execution_count": null,
      "outputs": [
        {
          "output_type": "stream",
          "name": "stdout",
          "text": [
            "cuda-repo-ubuntu1604-9-2-local_9.2.88-1_amd64.deb  Mandel.ppm  sample_data  src\n"
          ]
        }
      ]
    },
    {
      "cell_type": "markdown",
      "source": [
        "**MandelbrotGPU**"
      ],
      "metadata": {
        "id": "ALoPn3-b8z-w"
      }
    },
    {
      "cell_type": "code",
      "source": [
        "\n",
        "%%cu\n",
        "#include <cuda_runtime.h>\n",
        "#include <iostream> \n",
        "using namespace std;\n",
        "#include <chrono>\n",
        "#include <sys/time.h>\n",
        "\n",
        "__global__ void computeMandelbrot1D(double X0, double Y0, double X1, double Y1, int POZ, int PION, int ITER,int *Mandel ){\n",
        "    int indx = blockIdx.x * blockDim.x + threadIdx.x;\n",
        "    double Xre,Xim,Yre,Yim,Tre,Tim;\n",
        "    double dy = (Y1-Y0)/PION;\n",
        "    double dx=(X1-X0)/POZ;\n",
        "    int k;\n",
        "    \n",
        "    if(indx<PION*POZ){\n",
        "\n",
        "    \n",
        "    \n",
        "        Xre=(indx/POZ)*dx+X0;\n",
        "            \n",
        "                k=0;\n",
        "                Xim=(indx%POZ)*dy+Y0;\n",
        "                Yre=0;\n",
        "                Yim=0;\n",
        "               do{\n",
        "                   Tre = Yre*Yre-Yim*Yim;\n",
        "                   Tim = 2*Yre*Yim;\n",
        "                   Yre=Tre;\n",
        "                   Yim=Tim;\n",
        "                   Yre=Yre+Xre;\n",
        "                   Yim=Yim+Xim;\n",
        "                   k++;\n",
        "               }while(k<ITER&&(Yre*Yre+ Yim*Yim)<4);\n",
        "                Mandel[indx]=k;\n",
        "            \n",
        "    }\n",
        "    \n",
        "}\n",
        "\n",
        "\n",
        "void makePicture(int *Mandel,int width, int height, int MAX){\n",
        "    \n",
        "    int red_value, green_value, blue_value;\n",
        "    \n",
        "    float scale = 256.0/MAX;\n",
        "    \n",
        "    int MyPalette[41][3]={\n",
        "        {255,255,255}, //0\n",
        "        {255,255,255}, //1 not used\n",
        "        {255,255,255}, //2 not used\n",
        "        {255,255,255}, //3 not used\n",
        "        {255,255,255}, //4 not used\n",
        "        {255,180,255}, //5\n",
        "        {255,180,255}, //6 not used\n",
        "        {255,180,255}, //7 not used\n",
        "        {248,128,240}, //8\n",
        "        {248,128,240}, //9 not used\n",
        "        {240,64,224}, //10\n",
        "        {240,64,224}, //11 not used\n",
        "        {232,32,208}, //12\n",
        "        {224,16,192}, //13\n",
        "        {216,8,176}, //14\n",
        "        {208,4,160}, //15\n",
        "        {200,2,144}, //16\n",
        "        {192,1,128}, //17\n",
        "        {184,0,112}, //18\n",
        "        {176,0,96}, //19\n",
        "        {168,0,80}, //20\n",
        "        {160,0,64}, //21\n",
        "        {152,0,48}, //22\n",
        "        {144,0,32}, //23\n",
        "        {136,0,16}, //24\n",
        "        {128,0,0}, //25\n",
        "        {120,16,0}, //26\n",
        "        {112,32,0}, //27\n",
        "        {104,48,0}, //28\n",
        "        {96,64,0}, //29\n",
        "        {88,80,0}, //30\n",
        "        {80,96,0}, //31\n",
        "        {72,112,0}, //32\n",
        "        {64,128,0}, //33\n",
        "        {56,144,0}, //34\n",
        "        {48,160,0}, //35\n",
        "        {40,176,0}, //36\n",
        "        {32,192,0}, //37\n",
        "        {16,224,0}, //38\n",
        "        {8,240,0}, //39\n",
        "        {0,0,0} //40\n",
        "    };\n",
        "    \n",
        "    FILE *f = fopen(\"Mandel.ppm\", \"wb\");\n",
        "    fprintf(f, \"P6\\n%i %i 255\\n\", width, height);\n",
        "    for (int j=height-1; j>=0; j--) {\n",
        "        for (int i=0; i<width; i++) {\n",
        "            // compute index to the palette\n",
        "            int indx= (int) floor(5.0*scale*log2f(1.0f*Mandel[j*height+i]+1));\n",
        "            red_value=MyPalette[indx][0];\n",
        "            green_value=MyPalette[indx][2];\n",
        "            blue_value=MyPalette[indx][1];\n",
        "            \n",
        "            fputc(red_value, f);   // 0 .. 255\n",
        "            fputc(green_value, f); // 0 .. 255\n",
        "            fputc(blue_value, f);  // 0 .. 255\n",
        "        }\n",
        "    }\n",
        "    fclose(f);\n",
        "    \n",
        "}\n",
        "\n",
        "\n",
        "int main(int argc, char **argv) {\n",
        "  \n",
        "\n",
        "    double X0=-0.82;\n",
        "     double Y0=0.1; \n",
        "     double X1=-0.7;\n",
        "     double Y1=0.22;\n",
        "      int width=1000;\n",
        "       int height=1000;\n",
        "       int ITER=256;\n",
        "       int threads = 1024;\n",
        "       int* Mandel;\n",
        "        cudaMallocManaged(&Mandel,sizeof(int)*width*height);\n",
        "\n",
        "  \n",
        "    cudaEvent_t start, stop;\n",
        "  float elapsedTime;\n",
        "\n",
        "  cudaEventCreate(&start);\n",
        "  cudaEventRecord(start,0);\n",
        "\n",
        "    computeMandelbrot1D<<<(width*height)/threads,threads>>>( X0, Y0, X1,Y1, width,height,ITER,Mandel );\n",
        "    cudaDeviceSynchronize();\n",
        "   \n",
        " cudaEventCreate(&stop);\n",
        " cudaEventRecord(stop,0);\n",
        " cudaEventSynchronize(stop);\n",
        "\n",
        " cudaEventElapsedTime(&elapsedTime, start,stop);\n",
        " cudaDeviceSynchronize();\n",
        " cout<<elapsedTime<<endl;\n",
        "\n",
        "  \n",
        "makePicture(Mandel,width,height,256);\n",
        "cudaFree(Mandel);\n",
        "}\n",
        "\n",
        "\n"
      ],
      "metadata": {
        "colab": {
          "base_uri": "https://localhost:8080/"
        },
        "id": "mmDRPqy93g7h",
        "outputId": "c14a352d-6ad5-4026-b5c8-c8cf8e8a3450"
      },
      "execution_count": null,
      "outputs": [
        {
          "output_type": "stream",
          "name": "stdout",
          "text": [
            "1.36767e-42\n",
            "\n"
          ]
        }
      ]
    },
    {
      "cell_type": "markdown",
      "source": [
        ""
      ],
      "metadata": {
        "id": "AaqQIr5w_31P"
      }
    },
    {
      "cell_type": "markdown",
      "source": [
        "**Sumowanie wektorów CPU**"
      ],
      "metadata": {
        "id": "vdPy5chp_32f"
      }
    },
    {
      "cell_type": "code",
      "source": [
        "%%cu\n",
        "#include <iostream> \n",
        "using namespace std;\n",
        "#include <chrono>\n",
        "#include <sys/time.h>\n",
        "\n",
        "int main(){\n",
        "int a[10000];\n",
        "int b[10000];\n",
        "int c[10000];\n",
        "for(int x =0;x<10000;x++){\n",
        "    a[x]=x;\n",
        "    b[x]=x;\n",
        "    c[x]=a[x]+b[x];\n",
        "}\n",
        "\n",
        "\n",
        "\n",
        "printf(\"%d\",c[5000]);\n",
        "\n",
        "return 0;\n",
        "}"
      ],
      "metadata": {
        "colab": {
          "base_uri": "https://localhost:8080/"
        },
        "id": "idEydqul_7rX",
        "outputId": "ccf1ea41-08b7-4816-9dea-48568f7952ce"
      },
      "execution_count": null,
      "outputs": [
        {
          "output_type": "stream",
          "name": "stdout",
          "text": [
            "10000\n"
          ]
        }
      ]
    },
    {
      "cell_type": "markdown",
      "source": [
        "**Sumowanie wektorow GPU**"
      ],
      "metadata": {
        "id": "8G4KIAr5BSBn"
      }
    },
    {
      "cell_type": "code",
      "source": [
        "%%cu\n",
        "#include <cuda_runtime.h>\n",
        "#include <iostream> \n",
        "using namespace std;\n",
        "#include <chrono>\n",
        "#include <sys/time.h>\n",
        "__global__ void sumowanie(int* a, int*b, int* c){\n",
        "    int idx = blockIdx.x*blockDim.x+threadIdx.x;\n",
        "    if(idx<100)\n",
        "    {\n",
        "       c[idx]=a[idx]+b[idx];\n",
        "    \n",
        "    \n",
        "    \n",
        "    }\n",
        "}\n",
        "\n",
        "int main(){\n",
        "    \n",
        "  int* a_CPU=(int*)malloc(sizeof(int)*100);\n",
        "  int* b_CPU=(int*)malloc(sizeof(int)*100);\n",
        "  int* c_CPU=(int*)malloc(sizeof(int)*100);\n",
        "  int* a_GPU;\n",
        "  int* b_GPU;\n",
        "  int* c_GPU;\n",
        "  cudaMalloc((void**)&a_GPU,sizeof(int)*100);\n",
        "  cudaMalloc((void**)&b_GPU,sizeof(int)*100);\n",
        "  cudaMalloc((void**)&c_GPU,sizeof(int)*100);\n",
        "  \n",
        "  for(int x =0;x<100;x++){\n",
        "      a_CPU[x]=x;\n",
        "      b_CPU[x]=x;\n",
        "  }\n",
        "  //printf(\"%d\",a_CPU[50]);\n",
        "  cudaMemcpy(a_GPU,a_CPU,sizeof(int)*100,cudaMemcpyHostToDevice);\n",
        "  cudaMemcpy(b_GPU,b_CPU,sizeof(int)*100,cudaMemcpyHostToDevice);\n",
        "\n",
        "\n",
        "  sumowanie<<<10,1024>>>(a_GPU,b_GPU,c_GPU);\n",
        "  cudaDeviceSynchronize();\n",
        "  cudaMemcpy(c_CPU,c_GPU,sizeof(int)*100,cudaMemcpyDeviceToHost);\n",
        "\n",
        "  printf(\"%d\",c_CPU[1]);\n",
        "\n",
        "\n",
        "\n",
        "\n",
        "  cudaFree(a_GPU);\n",
        "    cudaFree(b_GPU);\n",
        "      cudaFree(c_GPU);\n",
        "      free(a_CPU);\n",
        "      free(b_CPU);\n",
        "      free(c_CPU);\n",
        "\n",
        "\n",
        "\n",
        "\n",
        "\n",
        "\n",
        "    return 0;\n",
        "}"
      ],
      "metadata": {
        "colab": {
          "base_uri": "https://localhost:8080/"
        },
        "id": "z7Ve1ONhBVtv",
        "outputId": "e14fe096-4d22-49ef-9f71-71ceeea95371"
      },
      "execution_count": null,
      "outputs": [
        {
          "output_type": "stream",
          "name": "stdout",
          "text": [
            "2\n"
          ]
        }
      ]
    },
    {
      "cell_type": "code",
      "source": [
        "%%cu\n",
        "#include \"cuda_runtime.h\"\n",
        "#include \"device_launch_parameters.h\"\n",
        "\n",
        "#include <stdio.h>\n",
        "\n",
        "__global__ void addKernel(int* c, const int* a, const int* b, int size) {\n",
        "    int i = blockIdx.x * blockDim.x + threadIdx.x;\n",
        "    if (i < size) {\n",
        "        c[i] = a[i] + b[i];\n",
        "    }\n",
        "}\n",
        "\n",
        "// Helper function for using CUDA to add vectors in parallel.\n",
        "void addWithCuda(int* c, const int* a, const int* b, int size) {\n",
        "    int* dev_a = nullptr;\n",
        "    int* dev_b = nullptr;\n",
        "    int* dev_c = nullptr;\n",
        "\n",
        "    // Allocate GPU buffers for three vectors (two input, one output)\n",
        "    cudaMalloc((void**)&dev_c, size * sizeof(int));\n",
        "    cudaMalloc((void**)&dev_a, size * sizeof(int));\n",
        "    cudaMalloc((void**)&dev_b, size * sizeof(int));\n",
        "\n",
        "    // Copy input vectors from host memory to GPU buffers.\n",
        "    cudaMemcpy(dev_a, a, size * sizeof(int), cudaMemcpyHostToDevice);\n",
        "    cudaMemcpy(dev_b, b, size * sizeof(int), cudaMemcpyHostToDevice);\n",
        "\n",
        "    // Launch a kernel on the GPU with one thread for each element.\n",
        "    // 2 is number of computational blocks and (size + 1) / 2 is a number of threads in a block\n",
        "    addKernel<<<2, (size + 1) / 2>>>(dev_c, dev_a, dev_b, size);\n",
        "    \n",
        "    // cudaDeviceSynchronize waits for the kernel to finish, and returns\n",
        "    // any errors encountered during the launch.\n",
        "    cudaDeviceSynchronize();\n",
        "\n",
        "    // Copy output vector from GPU buffer to host memory.\n",
        "    cudaMemcpy(c, dev_c, size * sizeof(int), cudaMemcpyDeviceToHost);\n",
        "\n",
        "    cudaFree(dev_c);\n",
        "    cudaFree(dev_a);\n",
        "    cudaFree(dev_b);\n",
        "}\n",
        "\n",
        "int main(int argc, char** argv) {\n",
        "    const int arraySize = 5;\n",
        "    const int a[arraySize] = {  1,  2,  3,  4,  5 };\n",
        "    const int b[arraySize] = { 10, 20, 30, 40, 50 };\n",
        "    int c[arraySize] = { 0 };\n",
        "\n",
        "    addWithCuda(c, a, b, arraySize);\n",
        "\n",
        "    printf(\"{1, 2, 3, 4, 5} + {10, 20, 30, 40, 50} = {%d, %d, %d, %d, %d}\\n\", c[0], c[1], c[2], c[3], c[4]);\n",
        "\n",
        "    cudaDeviceReset();\n",
        "\n",
        "    return 0;\n",
        "}"
      ],
      "metadata": {
        "id": "nJjH8ENSQBcc",
        "outputId": "5cac40fe-385b-485e-dd6a-f93501d0ab38",
        "colab": {
          "base_uri": "https://localhost:8080/"
        }
      },
      "execution_count": null,
      "outputs": [
        {
          "output_type": "stream",
          "name": "stdout",
          "text": [
            "{1, 2, 3, 4, 5} + {10, 20, 30, 40, 50} = {11, 22, 33, 44, 55}\n",
            "\n"
          ]
        }
      ]
    },
    {
      "cell_type": "markdown",
      "source": [
        "**CAŁKOWANIE NUMERYCZNE CPU METODY: TRAPEZA/SIMPSONA/PROSTOKATOW**"
      ],
      "metadata": {
        "id": "6hyyQBQULqjB"
      }
    },
    {
      "cell_type": "code",
      "source": [
        "%%cu\n",
        "#include <cuda_runtime.h>\n",
        "#include <iostream> \n",
        "using namespace std;\n",
        "#include <chrono>\n",
        "#include <sys/time.h>\n",
        "double funkcja(double x){\n",
        "    return x*x;\n",
        "}\n",
        "double prostakaty(double poczatekPrzedzialu, double koniecPrzedzialu,int iloscIteracji){\n",
        "    double dx = (koniecPrzedzialu-poczatekPrzedzialu)/iloscIteracji;\n",
        "    double suma=0;\n",
        "    for(int x=0;x<iloscIteracji;x++){\n",
        "        suma+= dx*funkcja(poczatekPrzedzialu+(x*dx));\n",
        "\n",
        "    }\n",
        "    return suma;\n",
        "}\n",
        "\n",
        "double trapezy(double poczatekPrzedzialu, double koniecPrzedzialu,int iloscIteracji){\n",
        "   double  dx=(koniecPrzedzialu-poczatekPrzedzialu)/iloscIteracji;\n",
        "  double suma=0;\n",
        "  \n",
        "  for(int x =0;x<iloscIteracji;x++){\n",
        "      suma+=(funkcja(poczatekPrzedzialu+(x*dx))+funkcja(poczatekPrzedzialu+(x+1)*dx))*(dx/2);\n",
        "  }\n",
        "\n",
        "\n",
        "\n",
        "    return suma;\n",
        "}\n",
        "\n",
        "\n",
        "double simpson(double poczatekPrzedzialu,double koniecPrzedzialu,int iloscOdcinkow){\n",
        "        double h =(koniecPrzedzialu-poczatekPrzedzialu)/(iloscOdcinkow*2);\n",
        "        double hzTrapeza = (koniecPrzedzialu-poczatekPrzedzialu)/(iloscOdcinkow);\n",
        "        double wynik =0;\n",
        "\n",
        "        for(int x=0;x<iloscOdcinkow;x++){\n",
        "            wynik+=((hzTrapeza/2)/3)*\n",
        "                    (funkcja(poczatekPrzedzialu+x*hzTrapeza)+funkcja(poczatekPrzedzialu+(x+1)*hzTrapeza)+\n",
        "                            (4*funkcja(((poczatekPrzedzialu+(x+1)*hzTrapeza)+(poczatekPrzedzialu+x*hzTrapeza))/2)));\n",
        "        \n",
        "        }\n",
        "\n",
        "        return wynik;\n",
        "}\n",
        "int main(){\n",
        "    \n",
        "\n",
        "//cout<<prostakaty(1,3,1024)<<endl;\n",
        "\n",
        "\n",
        "//cout<<trapezy(1,3,1024)<<endl;\n",
        "cout<<simpson(1,3,1024)<<endl;\n",
        "\n",
        "\n",
        "\n",
        "\n",
        "    return 0;\n",
        "}\n"
      ],
      "metadata": {
        "colab": {
          "base_uri": "https://localhost:8080/"
        },
        "id": "hZNyy7SCE8nu",
        "outputId": "aaecf933-701e-400e-a53a-cdc8588ce26f"
      },
      "execution_count": 46,
      "outputs": [
        {
          "output_type": "stream",
          "name": "stdout",
          "text": [
            "8.66667\n",
            "\n"
          ]
        }
      ]
    },
    {
      "cell_type": "code",
      "source": [
        "%%cu\n",
        "#include <cuda_runtime.h>\n",
        "#include <iostream> \n",
        "using namespace std;\n",
        "\n",
        "__device__ double funkcja(double x){\n",
        "    return x*x;\n",
        "}\n",
        "__global__ void prostokaty(int poczatekPrzedzialu,double koniecPrzedzialu,double* wynik_GPU){\n",
        "     double dx = (koniecPrzedzialu-poczatekPrzedzialu)/1024;\n",
        "     int idx =  threadIdx.x;\n",
        "\n",
        "\n",
        "\n",
        "\n",
        "        wynik_GPU[idx]= dx*funkcja(poczatekPrzedzialu+(idx*dx));\n",
        "        __syncthreads();\n",
        "\n",
        "      \n",
        "\n",
        "}\n",
        "__global__ void trapezy(int poczatekPrzedzialu,double koniecPrzedzialu,double* wynik_GPU){\n",
        "  \n",
        "      double  dx=(koniecPrzedzialu-poczatekPrzedzialu)/1024;\n",
        "      int idx =  threadIdx.x;\n",
        "  \n",
        " \n",
        "      wynik_GPU[idx]=(funkcja(poczatekPrzedzialu+(idx*dx))+funkcja(poczatekPrzedzialu+(idx+1)*dx))*(dx/2);\n",
        " \n",
        "\n",
        "\n",
        "}\n",
        "__global__ void simpsony(int poczatekPrzedzialu,double koniecPrzedzialu,double* wynik_GPU){\n",
        "    \n",
        "   double h =(koniecPrzedzialu-poczatekPrzedzialu)/(1024*2);\n",
        "        double hzTrapeza = (koniecPrzedzialu-poczatekPrzedzialu)/(1024);\n",
        "        int idx =  threadIdx.x;\n",
        "\n",
        "        \n",
        "            wynik_GPU[idx]=((hzTrapeza/2)/3)*\n",
        "                    (funkcja(poczatekPrzedzialu+idx*hzTrapeza)+funkcja(poczatekPrzedzialu+(idx+1)*hzTrapeza)+\n",
        "                            (4*funkcja(((poczatekPrzedzialu+(idx+1)*hzTrapeza)+(poczatekPrzedzialu+idx*hzTrapeza))/2)));\n",
        "        \n",
        "        \n",
        "      \n",
        "\n",
        "}\n",
        "int main(){\n",
        "  double* c= (double*)malloc(sizeof(double)*1024);\n",
        "\n",
        "  double* wynik_GPU;\n",
        "  cudaMalloc((void**)&wynik_GPU,sizeof(double)*1024);\n",
        "\n",
        "\n",
        " cudaEvent_t start, stop;\n",
        "  float elapsedTime;\n",
        "  cudaEventCreate(&start);\n",
        "  cudaEventRecord(start,0);\n",
        "\n",
        "  prostokaty<<<1,1024>>>(1,3,wynik_GPU);\n",
        " // trapezy<<<1,1024>>>(1,3,wynik_GPU);\n",
        "  //simpsony<<<1,1024>>>(1,3,wynik_GPU);\n",
        "cudaDeviceSynchronize();\n",
        "\n",
        "cudaEventCreate(&stop);\n",
        " cudaEventRecord(stop,0);\n",
        " cudaEventSynchronize(stop);\n",
        " cudaEventElapsedTime(&elapsedTime, start,stop);\n",
        "\n",
        "  cudaMemcpy(c,wynik_GPU,sizeof(double)*1024,cudaMemcpyDeviceToHost);\n",
        "   cout<<elapsedTime<<endl;\n",
        "  double suma=0;\n",
        "  for(int x=0;x<1024;x++){\n",
        "      suma+=c[x];\n",
        "  }\n",
        " // cout<<c[2];\n",
        "cout<<suma;\n",
        "\n",
        "\n",
        "\n",
        "\n",
        "\n",
        "    return 0;\n",
        "}"
      ],
      "metadata": {
        "colab": {
          "base_uri": "https://localhost:8080/"
        },
        "id": "9aoRQW3CL5-p",
        "outputId": "5ae2f012-9c5d-4281-c9fe-55724a5d211d"
      },
      "execution_count": 55,
      "outputs": [
        {
          "output_type": "stream",
          "name": "stdout",
          "text": [
            "0.127328\n",
            "8.65886\n"
          ]
        }
      ]
    }
  ]
}